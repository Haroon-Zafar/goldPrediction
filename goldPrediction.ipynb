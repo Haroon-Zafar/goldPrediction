{
 "cells": [
  {
   "cell_type": "code",
   "execution_count": 1,
   "metadata": {},
   "outputs": [],
   "source": [
    "# Importing Dependencies \n",
    "\n",
    "import numpy as np \n",
    "import pandas as pd \n",
    "import matplotlib.pyplot as plt\n",
    "import seaborn as sns\n",
    "from sklearn.model_selection import train_test_split\n",
    "from sklearn.ensemble import RandomForestRegressor\n",
    "from sklearn import metrics"
   ]
  },
  {
   "cell_type": "code",
   "execution_count": 2,
   "metadata": {},
   "outputs": [],
   "source": [
    "goldData = pd.read_csv('goldData.csv')"
   ]
  },
  {
   "cell_type": "code",
   "execution_count": 3,
   "metadata": {},
   "outputs": [
    {
     "data": {
      "text/html": [
       "<div>\n",
       "<style scoped>\n",
       "    .dataframe tbody tr th:only-of-type {\n",
       "        vertical-align: middle;\n",
       "    }\n",
       "\n",
       "    .dataframe tbody tr th {\n",
       "        vertical-align: top;\n",
       "    }\n",
       "\n",
       "    .dataframe thead th {\n",
       "        text-align: right;\n",
       "    }\n",
       "</style>\n",
       "<table border=\"1\" class=\"dataframe\">\n",
       "  <thead>\n",
       "    <tr style=\"text-align: right;\">\n",
       "      <th></th>\n",
       "      <th>Date</th>\n",
       "      <th>SPX</th>\n",
       "      <th>GLD</th>\n",
       "      <th>USO</th>\n",
       "      <th>SLV</th>\n",
       "      <th>EUR/USD</th>\n",
       "    </tr>\n",
       "  </thead>\n",
       "  <tbody>\n",
       "    <tr>\n",
       "      <th>0</th>\n",
       "      <td>1/2/2008</td>\n",
       "      <td>1447.160034</td>\n",
       "      <td>84.860001</td>\n",
       "      <td>78.470001</td>\n",
       "      <td>15.180</td>\n",
       "      <td>1.471692</td>\n",
       "    </tr>\n",
       "    <tr>\n",
       "      <th>1</th>\n",
       "      <td>1/3/2008</td>\n",
       "      <td>1447.160034</td>\n",
       "      <td>85.570000</td>\n",
       "      <td>78.370003</td>\n",
       "      <td>15.285</td>\n",
       "      <td>1.474491</td>\n",
       "    </tr>\n",
       "    <tr>\n",
       "      <th>2</th>\n",
       "      <td>1/4/2008</td>\n",
       "      <td>1411.630005</td>\n",
       "      <td>85.129997</td>\n",
       "      <td>77.309998</td>\n",
       "      <td>15.167</td>\n",
       "      <td>1.475492</td>\n",
       "    </tr>\n",
       "    <tr>\n",
       "      <th>3</th>\n",
       "      <td>1/7/2008</td>\n",
       "      <td>1416.180054</td>\n",
       "      <td>84.769997</td>\n",
       "      <td>75.500000</td>\n",
       "      <td>15.053</td>\n",
       "      <td>1.468299</td>\n",
       "    </tr>\n",
       "    <tr>\n",
       "      <th>4</th>\n",
       "      <td>1/8/2008</td>\n",
       "      <td>1390.189941</td>\n",
       "      <td>86.779999</td>\n",
       "      <td>76.059998</td>\n",
       "      <td>15.590</td>\n",
       "      <td>1.557099</td>\n",
       "    </tr>\n",
       "  </tbody>\n",
       "</table>\n",
       "</div>"
      ],
      "text/plain": [
       "       Date          SPX        GLD        USO     SLV   EUR/USD\n",
       "0  1/2/2008  1447.160034  84.860001  78.470001  15.180  1.471692\n",
       "1  1/3/2008  1447.160034  85.570000  78.370003  15.285  1.474491\n",
       "2  1/4/2008  1411.630005  85.129997  77.309998  15.167  1.475492\n",
       "3  1/7/2008  1416.180054  84.769997  75.500000  15.053  1.468299\n",
       "4  1/8/2008  1390.189941  86.779999  76.059998  15.590  1.557099"
      ]
     },
     "execution_count": 3,
     "metadata": {},
     "output_type": "execute_result"
    }
   ],
   "source": [
    "# print first 5 rows of the data\n",
    "\n",
    "goldData.head()"
   ]
  },
  {
   "cell_type": "code",
   "execution_count": 4,
   "metadata": {},
   "outputs": [
    {
     "data": {
      "text/html": [
       "<div>\n",
       "<style scoped>\n",
       "    .dataframe tbody tr th:only-of-type {\n",
       "        vertical-align: middle;\n",
       "    }\n",
       "\n",
       "    .dataframe tbody tr th {\n",
       "        vertical-align: top;\n",
       "    }\n",
       "\n",
       "    .dataframe thead th {\n",
       "        text-align: right;\n",
       "    }\n",
       "</style>\n",
       "<table border=\"1\" class=\"dataframe\">\n",
       "  <thead>\n",
       "    <tr style=\"text-align: right;\">\n",
       "      <th></th>\n",
       "      <th>Date</th>\n",
       "      <th>SPX</th>\n",
       "      <th>GLD</th>\n",
       "      <th>USO</th>\n",
       "      <th>SLV</th>\n",
       "      <th>EUR/USD</th>\n",
       "    </tr>\n",
       "  </thead>\n",
       "  <tbody>\n",
       "    <tr>\n",
       "      <th>2285</th>\n",
       "      <td>5/8/2018</td>\n",
       "      <td>2671.919922</td>\n",
       "      <td>124.589996</td>\n",
       "      <td>14.0600</td>\n",
       "      <td>15.5100</td>\n",
       "      <td>1.186789</td>\n",
       "    </tr>\n",
       "    <tr>\n",
       "      <th>2286</th>\n",
       "      <td>5/9/2018</td>\n",
       "      <td>2697.790039</td>\n",
       "      <td>124.330002</td>\n",
       "      <td>14.3700</td>\n",
       "      <td>15.5300</td>\n",
       "      <td>1.184722</td>\n",
       "    </tr>\n",
       "    <tr>\n",
       "      <th>2287</th>\n",
       "      <td>5/10/2018</td>\n",
       "      <td>2723.070068</td>\n",
       "      <td>125.180000</td>\n",
       "      <td>14.4100</td>\n",
       "      <td>15.7400</td>\n",
       "      <td>1.191753</td>\n",
       "    </tr>\n",
       "    <tr>\n",
       "      <th>2288</th>\n",
       "      <td>5/14/2018</td>\n",
       "      <td>2730.129883</td>\n",
       "      <td>124.489998</td>\n",
       "      <td>14.3800</td>\n",
       "      <td>15.5600</td>\n",
       "      <td>1.193118</td>\n",
       "    </tr>\n",
       "    <tr>\n",
       "      <th>2289</th>\n",
       "      <td>5/16/2018</td>\n",
       "      <td>2725.780029</td>\n",
       "      <td>122.543800</td>\n",
       "      <td>14.4058</td>\n",
       "      <td>15.4542</td>\n",
       "      <td>1.182033</td>\n",
       "    </tr>\n",
       "  </tbody>\n",
       "</table>\n",
       "</div>"
      ],
      "text/plain": [
       "           Date          SPX         GLD      USO      SLV   EUR/USD\n",
       "2285   5/8/2018  2671.919922  124.589996  14.0600  15.5100  1.186789\n",
       "2286   5/9/2018  2697.790039  124.330002  14.3700  15.5300  1.184722\n",
       "2287  5/10/2018  2723.070068  125.180000  14.4100  15.7400  1.191753\n",
       "2288  5/14/2018  2730.129883  124.489998  14.3800  15.5600  1.193118\n",
       "2289  5/16/2018  2725.780029  122.543800  14.4058  15.4542  1.182033"
      ]
     },
     "execution_count": 4,
     "metadata": {},
     "output_type": "execute_result"
    }
   ],
   "source": [
    "# printing last 5 rows of the data for knowing the date \n",
    "\n",
    "goldData.tail()"
   ]
  },
  {
   "cell_type": "code",
   "execution_count": 5,
   "metadata": {},
   "outputs": [
    {
     "data": {
      "text/plain": [
       "(2290, 6)"
      ]
     },
     "execution_count": 5,
     "metadata": {},
     "output_type": "execute_result"
    }
   ],
   "source": [
    "# number of Rows and Columns of DataSet \n",
    "\n",
    "goldData.shape"
   ]
  },
  {
   "cell_type": "code",
   "execution_count": 6,
   "metadata": {},
   "outputs": [
    {
     "name": "stdout",
     "output_type": "stream",
     "text": [
      "<class 'pandas.core.frame.DataFrame'>\n",
      "RangeIndex: 2290 entries, 0 to 2289\n",
      "Data columns (total 6 columns):\n",
      " #   Column   Non-Null Count  Dtype  \n",
      "---  ------   --------------  -----  \n",
      " 0   Date     2290 non-null   object \n",
      " 1   SPX      2290 non-null   float64\n",
      " 2   GLD      2290 non-null   float64\n",
      " 3   USO      2290 non-null   float64\n",
      " 4   SLV      2290 non-null   float64\n",
      " 5   EUR/USD  2290 non-null   float64\n",
      "dtypes: float64(5), object(1)\n",
      "memory usage: 107.5+ KB\n"
     ]
    }
   ],
   "source": [
    "# we don't have any non-null values in our dataset \n",
    "goldData.info()"
   ]
  },
  {
   "cell_type": "code",
   "execution_count": 7,
   "metadata": {},
   "outputs": [
    {
     "data": {
      "text/plain": [
       "Date       0\n",
       "SPX        0\n",
       "GLD        0\n",
       "USO        0\n",
       "SLV        0\n",
       "EUR/USD    0\n",
       "dtype: int64"
      ]
     },
     "execution_count": 7,
     "metadata": {},
     "output_type": "execute_result"
    }
   ],
   "source": [
    "# this function will give us the number of null values in dataset   \n",
    "goldData.isnull().sum()"
   ]
  },
  {
   "cell_type": "code",
   "execution_count": 8,
   "metadata": {},
   "outputs": [
    {
     "data": {
      "text/html": [
       "<div>\n",
       "<style scoped>\n",
       "    .dataframe tbody tr th:only-of-type {\n",
       "        vertical-align: middle;\n",
       "    }\n",
       "\n",
       "    .dataframe tbody tr th {\n",
       "        vertical-align: top;\n",
       "    }\n",
       "\n",
       "    .dataframe thead th {\n",
       "        text-align: right;\n",
       "    }\n",
       "</style>\n",
       "<table border=\"1\" class=\"dataframe\">\n",
       "  <thead>\n",
       "    <tr style=\"text-align: right;\">\n",
       "      <th></th>\n",
       "      <th>SPX</th>\n",
       "      <th>GLD</th>\n",
       "      <th>USO</th>\n",
       "      <th>SLV</th>\n",
       "      <th>EUR/USD</th>\n",
       "    </tr>\n",
       "  </thead>\n",
       "  <tbody>\n",
       "    <tr>\n",
       "      <th>count</th>\n",
       "      <td>2290.000000</td>\n",
       "      <td>2290.000000</td>\n",
       "      <td>2290.000000</td>\n",
       "      <td>2290.000000</td>\n",
       "      <td>2290.000000</td>\n",
       "    </tr>\n",
       "    <tr>\n",
       "      <th>mean</th>\n",
       "      <td>1654.315776</td>\n",
       "      <td>122.732875</td>\n",
       "      <td>31.842221</td>\n",
       "      <td>20.084997</td>\n",
       "      <td>1.283653</td>\n",
       "    </tr>\n",
       "    <tr>\n",
       "      <th>std</th>\n",
       "      <td>519.111540</td>\n",
       "      <td>23.283346</td>\n",
       "      <td>19.523517</td>\n",
       "      <td>7.092566</td>\n",
       "      <td>0.131547</td>\n",
       "    </tr>\n",
       "    <tr>\n",
       "      <th>min</th>\n",
       "      <td>676.530029</td>\n",
       "      <td>70.000000</td>\n",
       "      <td>7.960000</td>\n",
       "      <td>8.850000</td>\n",
       "      <td>1.039047</td>\n",
       "    </tr>\n",
       "    <tr>\n",
       "      <th>25%</th>\n",
       "      <td>1239.874969</td>\n",
       "      <td>109.725000</td>\n",
       "      <td>14.380000</td>\n",
       "      <td>15.570000</td>\n",
       "      <td>1.171313</td>\n",
       "    </tr>\n",
       "    <tr>\n",
       "      <th>50%</th>\n",
       "      <td>1551.434998</td>\n",
       "      <td>120.580002</td>\n",
       "      <td>33.869999</td>\n",
       "      <td>17.268500</td>\n",
       "      <td>1.303297</td>\n",
       "    </tr>\n",
       "    <tr>\n",
       "      <th>75%</th>\n",
       "      <td>2073.010070</td>\n",
       "      <td>132.840004</td>\n",
       "      <td>37.827501</td>\n",
       "      <td>22.882500</td>\n",
       "      <td>1.369971</td>\n",
       "    </tr>\n",
       "    <tr>\n",
       "      <th>max</th>\n",
       "      <td>2872.870117</td>\n",
       "      <td>184.589996</td>\n",
       "      <td>117.480003</td>\n",
       "      <td>47.259998</td>\n",
       "      <td>1.598798</td>\n",
       "    </tr>\n",
       "  </tbody>\n",
       "</table>\n",
       "</div>"
      ],
      "text/plain": [
       "               SPX          GLD          USO          SLV      EUR/USD\n",
       "count  2290.000000  2290.000000  2290.000000  2290.000000  2290.000000\n",
       "mean   1654.315776   122.732875    31.842221    20.084997     1.283653\n",
       "std     519.111540    23.283346    19.523517     7.092566     0.131547\n",
       "min     676.530029    70.000000     7.960000     8.850000     1.039047\n",
       "25%    1239.874969   109.725000    14.380000    15.570000     1.171313\n",
       "50%    1551.434998   120.580002    33.869999    17.268500     1.303297\n",
       "75%    2073.010070   132.840004    37.827501    22.882500     1.369971\n",
       "max    2872.870117   184.589996   117.480003    47.259998     1.598798"
      ]
     },
     "execution_count": 8,
     "metadata": {},
     "output_type": "execute_result"
    }
   ],
   "source": [
    "# Statistics of the dataset\n",
    "goldData.describe()"
   ]
  },
  {
   "cell_type": "code",
   "execution_count": 11,
   "metadata": {},
   "outputs": [],
   "source": [
    "# Correlation \n",
    "\n",
    "# 1. Positive Correlation. GLD and SLV prices are positively correlated.\n",
    "# 2. Negative Correlation\n",
    "\n",
    "# .corr() calculates the co-relationship between the features\n",
    "\n",
    "correlation = goldData.corr()\n"
   ]
  },
  {
   "cell_type": "code",
   "execution_count": 14,
   "metadata": {},
   "outputs": [
    {
     "data": {
      "text/plain": [
       "<Figure size 1440x1440 with 0 Axes>"
      ]
     },
     "execution_count": 14,
     "metadata": {},
     "output_type": "execute_result"
    },
    {
     "data": {
      "text/plain": [
       "<Figure size 1440x1440 with 0 Axes>"
      ]
     },
     "metadata": {},
     "output_type": "display_data"
    }
   ],
   "source": [
    "# constructing a heatmap to understand the correlation\n",
    "# size of the graph you want. \n",
    "\n",
    "plt.figure(figsize=(20,20))\n"
   ]
  },
  {
   "cell_type": "code",
   "execution_count": 15,
   "metadata": {},
   "outputs": [
    {
     "data": {
      "text/plain": [
       "<AxesSubplot:>"
      ]
     },
     "execution_count": 15,
     "metadata": {},
     "output_type": "execute_result"
    },
    {
     "data": {
      "image/png": "[encoded data removed]",
      "text/plain": [
       "<Figure size 432x288 with 2 Axes>"
      ]
     },
     "metadata": {
      "needs_background": "light"
     },
     "output_type": "display_data"
    }
   ],
   "source": [
    "# cbar = True will show the color bar on the right side of the graph\n",
    "# annot = True will show the correlation value in each cell\n",
    "# square = True will make the graph look like a square\n",
    "# fmt = '.2f' will show the correlation value in 2 decimal points\n",
    "# annot_kws = {'size': 10} will set the font size of the correlation value to 10\n",
    "\n",
    "sns.heatmap(correlation, cbar=True, square=True, fmt='.1f', annot=True, annot_kws={'size':8}, cmap='Blues')"
   ]
  },
  {
   "cell_type": "code",
   "execution_count": 16,
   "metadata": {},
   "outputs": [
    {
     "name": "stdout",
     "output_type": "stream",
     "text": [
      "GLD        1.000000\n",
      "SLV        0.866632\n",
      "SPX        0.049345\n",
      "EUR/USD   -0.024375\n",
      "USO       -0.186360\n",
      "Name: GLD, dtype: float64 \n",
      "\n"
     ]
    }
   ],
   "source": [
    "# Correlation values of GLD \n",
    "\n",
    "print(correlation['GLD'].sort_values(ascending=False),'\\n')"
   ]
  },
  {
   "cell_type": "code",
   "execution_count": 18,
   "metadata": {},
   "outputs": [
    {
     "name": "stderr",
     "output_type": "stream",
     "text": [
      "y:\\python\\lib\\site-packages\\ipykernel_launcher.py:3: UserWarning: \n",
      "\n",
      "`distplot` is a deprecated function and will be removed in seaborn v0.14.0.\n",
      "\n",
      "Please adapt your code to use either `displot` (a figure-level function with\n",
      "similar flexibility) or `histplot` (an axes-level function for histograms).\n",
      "\n",
      "For a guide to updating your code to use the new functions, please see\n",
      "https://gist.github.com/mwaskom/de44147ed2974457ad6372750bbe5751\n",
      "\n",
      "  This is separate from the ipykernel package so we can avoid doing imports until\n"
     ]
    },
    {
     "data": {
      "text/plain": [
       "<AxesSubplot:xlabel='GLD', ylabel='Density'>"
      ]
     },
     "execution_count": 18,
     "metadata": {},
     "output_type": "execute_result"
    },
    {
     "data": {
      "image/png": "[encoded data removed]",
      "text/plain": [
       "<Figure size 432x288 with 1 Axes>"
      ]
     },
     "metadata": {
      "needs_background": "light"
     },
     "output_type": "display_data"
    }
   ],
   "source": [
    "# Checking the Distribution of the GLD price \n",
    "\n",
    "sns.distplot(goldData['GLD'], color='red')\n",
    "# majority of values is at 120"
   ]
  },
  {
   "cell_type": "code",
   "execution_count": 19,
   "metadata": {},
   "outputs": [],
   "source": [
    "# Removing Date and GLD columns from the dataset\n",
    "# Spliting the dataset into independent and dependent variables\n",
    "# axis = 1 means Column \n",
    "\n",
    "Y = goldData['GLD']\n",
    "X = goldData.drop(['Date','GLD'], axis=1)\n"
   ]
  },
  {
   "cell_type": "code",
   "execution_count": 20,
   "metadata": {},
   "outputs": [
    {
     "name": "stdout",
     "output_type": "stream",
     "text": [
      "              SPX        USO      SLV   EUR/USD\n",
      "0     1447.160034  78.470001  15.1800  1.471692\n",
      "1     1447.160034  78.370003  15.2850  1.474491\n",
      "2     1411.630005  77.309998  15.1670  1.475492\n",
      "3     1416.180054  75.500000  15.0530  1.468299\n",
      "4     1390.189941  76.059998  15.5900  1.557099\n",
      "...           ...        ...      ...       ...\n",
      "2285  2671.919922  14.060000  15.5100  1.186789\n",
      "2286  2697.790039  14.370000  15.5300  1.184722\n",
      "2287  2723.070068  14.410000  15.7400  1.191753\n",
      "2288  2730.129883  14.380000  15.5600  1.193118\n",
      "2289  2725.780029  14.405800  15.4542  1.182033\n",
      "\n",
      "[2290 rows x 4 columns]\n"
     ]
    }
   ],
   "source": [
    "print(X)"
   ]
  },
  {
   "cell_type": "code",
   "execution_count": 21,
   "metadata": {},
   "outputs": [
    {
     "name": "stdout",
     "output_type": "stream",
     "text": [
      "0        84.860001\n",
      "1        85.570000\n",
      "2        85.129997\n",
      "3        84.769997\n",
      "4        86.779999\n",
      "           ...    \n",
      "2285    124.589996\n",
      "2286    124.330002\n",
      "2287    125.180000\n",
      "2288    124.489998\n",
      "2289    122.543800\n",
      "Name: GLD, Length: 2290, dtype: float64\n"
     ]
    }
   ],
   "source": [
    "print(Y)"
   ]
  },
  {
   "cell_type": "code",
   "execution_count": 22,
   "metadata": {},
   "outputs": [],
   "source": [
    "# Splitting the dataset into training and testing set\n",
    "\n",
    "X_train, X_test, Y_train, Y_test = train_test_split(X, Y, test_size=0.2, random_state=2)"
   ]
  },
  {
   "cell_type": "code",
   "execution_count": 25,
   "metadata": {},
   "outputs": [],
   "source": [
    "# Model Training \n",
    "\n",
    "# Using Random Forest Regressor ( ensemble model means it uses multiple models (decision trees) to make predictions )\n",
    "\n",
    "regressor = RandomForestRegressor(n_estimators=100)"
   ]
  },
  {
   "cell_type": "code",
   "execution_count": 26,
   "metadata": {},
   "outputs": [
    {
     "data": {
      "text/plain": [
       "RandomForestRegressor()"
      ]
     },
     "execution_count": 26,
     "metadata": {},
     "output_type": "execute_result"
    }
   ],
   "source": [
    "# Training the Model \n",
    "\n",
    "regressor.fit(X_train, Y_train)"
   ]
  },
  {
   "cell_type": "code",
   "execution_count": 27,
   "metadata": {},
   "outputs": [],
   "source": [
    "# Model Evaluation \n",
    "\n",
    "# Prediction on training data\n",
    "\n",
    "testDataPrediction = regressor.predict(X_test)"
   ]
  },
  {
   "cell_type": "code",
   "execution_count": 28,
   "metadata": {},
   "outputs": [
    {
     "name": "stdout",
     "output_type": "stream",
     "text": [
      "[168.74039962  82.16409988 116.14420004 127.74710048 120.77220159\n",
      " 154.69559766 150.36989833 126.13520042 117.45639905 125.95870096\n",
      " 116.75140093 171.74480105 141.57629811 167.9065982  115.02209988\n",
      " 117.80320045 139.7525029  170.3044013  159.05320307 159.65619956\n",
      " 154.93700019 125.37579995 174.86389997 157.06170319 125.15920007\n",
      "  93.74289978  77.42390021 120.68049979 119.09059918 167.40149994\n",
      "  88.16820075 125.10670011  91.17860102 117.85280031 121.09919845\n",
      " 136.2560012  115.60850113 115.28070096 148.31450023 107.34610125\n",
      " 104.86150259  87.17909785 126.53890044 118.13330009 153.81879901\n",
      " 119.67169999 108.23200048 107.84639852  93.15780014 127.09849792\n",
      "  74.75720073 113.65139975 121.5086     111.30679896 118.85959892\n",
      " 120.4854996  159.3365002  168.51230148 147.09869705  86.05589898\n",
      "  94.25160043  86.77579924  90.67150038 118.90720102 126.53530071\n",
      " 127.72500033 170.62319994 122.33269949 117.42439882  98.30350013\n",
      " 168.05650088 143.00869806 132.19420236 121.08910234 120.71879954\n",
      " 119.87240071 114.71970152 118.20210043 107.2363008  127.90910058\n",
      " 113.67259995 107.41009988 116.66770088 119.59429881  88.98720074\n",
      "  88.38989894 146.75310268 127.36649981 113.31270019 110.3181982\n",
      " 108.22709895  77.15869927 169.46150145 114.08699897 121.69139888\n",
      " 127.83390172 155.09089767  91.86489904 136.92970163 158.65520305\n",
      " 125.48140087 125.67720069 130.57840197 115.16450104 119.69489979\n",
      "  92.10679993 110.17339897 169.00229945 157.18439926 114.19969944\n",
      " 106.78340127  79.59500015 113.11230045 125.83990078 107.51769953\n",
      " 119.14320097 156.26650313 159.77739874 120.53769971 133.88070336\n",
      " 101.52969981 117.54629795 119.45530045 112.97160067 102.75239956\n",
      " 160.23619814  98.86640032 148.77239904 125.61170102 170.14799974\n",
      " 125.65769948 127.39769723 127.32230155 113.67629942 112.70410052\n",
      " 123.63969893 102.13209849  89.21709992 124.57809942 102.15449903\n",
      " 107.18639909 113.47470048 117.32590092  99.29479948 121.79000042\n",
      " 163.30019907  87.29929875 106.83309977 117.33950083 127.74590081\n",
      " 124.00090038  80.92979925 120.34860059 157.93579838  88.03889943\n",
      " 110.34669971 118.67439899 172.35339882 102.90879901 105.30500053\n",
      " 122.57350027 158.05349809  87.22579855  93.3601007  112.48540026\n",
      " 177.02129981 114.5481997  119.44600032  94.61360079 125.6617002\n",
      " 166.11580136 115.09010077 116.69920178  88.38739883 149.08840116\n",
      " 120.35389929  89.45199959 112.76940061 117.3158009  119.01320129\n",
      "  88.20669922  94.02430005 116.60460007 118.58820178 120.25320022\n",
      " 126.86199818 121.84250002 150.54150009 165.08840001 118.62879937\n",
      " 120.1137012  151.49800138 118.42959931 173.02589911 105.10839933\n",
      " 104.9385015  149.50430114 113.5882007  124.72340109 147.62639988\n",
      " 119.59640109 115.45760055 112.66760056 113.43300169 141.21780095\n",
      " 117.8295977  102.94400038 115.91380109 103.89700171  98.94790033\n",
      " 117.27430077  90.70420018  91.53740029 153.64269933 102.70759987\n",
      " 154.84160091 114.23330133 139.09540135  90.15499837 115.46229935\n",
      " 115.13919958 122.96610012 121.81559999 165.49960213  92.98719923\n",
      " 135.14520094 121.31279932 120.81990085 104.56440022 141.47700275\n",
      " 121.75729914 116.6774005  113.53370072 127.01429794 122.78799943\n",
      " 125.86819927 121.20490053  86.85569884 132.25120141 144.66930239\n",
      "  92.64709934 158.88319895 159.35050286 126.25489871 165.14099946\n",
      " 108.68279984 109.79210054 103.78429837  94.29730105 127.62370265\n",
      " 107.08920057 160.90289926 121.68660053 131.84760041 130.62130191\n",
      " 160.7453993   90.11699847 174.42440162 127.99299981 126.8581986\n",
      "  86.39479954 124.47139954 150.12869731  89.60619996 106.95459978\n",
      " 108.9077999   84.76539892 135.9742002  155.15720138 138.55250333\n",
      "  74.16430025 152.56330125 125.9537996  126.77880008 127.50619942\n",
      " 108.59569953 156.29079984 114.7061011  117.14370171 125.37359942\n",
      " 153.86320199 121.12420024 156.3691988   93.02220061 125.51960112\n",
      " 125.52910012  88.06910049  92.2531992  126.28849936 128.22840385\n",
      " 113.09140012 117.5019973  121.03870016 127.01169796 119.53620101\n",
      " 136.6187006   94.08789948 119.65660029 113.4212012   94.31289931\n",
      " 108.83869963  88.40089915 108.96199926  89.54579981  92.46620013\n",
      " 131.75750339 162.44490032  89.23960017 119.54500121 133.31760118\n",
      " 123.83970002 128.49020129 101.94269831  89.02869892 131.14790075\n",
      " 119.83440025 108.35610032 167.89640096 115.35490047  86.58869859\n",
      " 118.78560036  90.90809949 161.73390087 116.53240072 121.47390011\n",
      " 160.20079758 119.97709948 112.79379938 108.38689865 126.61209981\n",
      "  76.04110017 103.00029994 127.65550257 121.91409957  92.69619978\n",
      " 132.33260008 118.14390102 116.18100003 154.54700235 159.73820084\n",
      " 109.85889939 156.27179812 119.30470072 160.70240008 118.58640022\n",
      " 158.22739952 115.17789959 116.32040028 150.50629931 115.01280072\n",
      " 125.55259837 166.54229859 117.76970016 125.10739966 152.89310353\n",
      " 153.47090266 131.9985009  114.87700017 121.27910201 125.43010104\n",
      "  89.78050066 123.37039955 155.01330185 111.70500035 106.77689977\n",
      " 162.23870164 118.58359992 165.63539974 134.1503007  115.07599931\n",
      " 153.16249978 168.73190016 114.65380029 114.06760114 157.30359792\n",
      "  85.06929913 127.06980076 127.95250037 128.86079895 124.53820087\n",
      " 124.14720085  90.52810051 152.80260056  97.0065997  136.81709962\n",
      "  89.10079925 107.38170007 115.0830004  112.78380102 124.37969919\n",
      "  91.40679881 125.29780118 162.31729839 119.92929868 165.09960166\n",
      " 126.91529794 112.11430013 127.55419915  94.92829901  91.20189987\n",
      " 102.90669898 120.75400027  82.87779958 126.51839989 159.87540355\n",
      " 117.2827009  118.18749967 120.03649976 122.72029951 120.0970013\n",
      " 121.71870031 118.15920045 107.1114001  148.53100012 126.11259902\n",
      " 115.82850102  74.08129999 127.7912008  154.74120079 122.7979\n",
      " 125.52860065  88.93620003 103.45759872 124.30990047 120.15000027\n",
      "  73.45420073 151.3599002  121.24940049 104.71040001  86.49689786\n",
      " 115.25339946 172.28219833 119.73390035 160.25439777 113.1201997\n",
      " 121.05900035 118.67610101  95.98879983 118.76099979 125.84330035\n",
      " 118.36509952  96.28300097 154.03570196 122.19110007 147.68820051\n",
      " 159.51510167 113.86710016 122.45259966 150.10079881 127.17970051\n",
      " 165.67850073 135.63140018 119.79579941 167.08759853 108.24939949\n",
      " 121.85219883 138.8798015  107.27239892]\n"
     ]
    }
   ],
   "source": [
    "print(testDataPrediction)"
   ]
  },
  {
   "cell_type": "code",
   "execution_count": 29,
   "metadata": {},
   "outputs": [],
   "source": [
    "# R Squared Error \n",
    "# R squared error tells how good your model is. It is always between 0 to 1. 1 means perfect predictions\n",
    "# real value and predicted values in r2_score\n",
    "errorScore = metrics.r2_score(Y_test, testDataPrediction)"
   ]
  },
  {
   "cell_type": "code",
   "execution_count": 30,
   "metadata": {},
   "outputs": [
    {
     "name": "stdout",
     "output_type": "stream",
     "text": [
      "R Squared Error:  98.89873812383269 %\n"
     ]
    }
   ],
   "source": [
    "print(\"R Squared Error: \", errorScore*100,\"%\")"
   ]
  },
  {
   "cell_type": "code",
   "execution_count": 31,
   "metadata": {},
   "outputs": [],
   "source": [
    "# Compare the Actual Values and Predicted Values \n",
    "\n",
    "yTest = list(Y_test)\n",
    "\n"
   ]
  },
  {
   "cell_type": "code",
   "execution_count": 33,
   "metadata": {},
   "outputs": [
    {
     "data": {
      "image/png": "[encoded data removed]",
      "text/plain": [
       "<Figure size 432x288 with 1 Axes>"
      ]
     },
     "metadata": {
      "needs_background": "light"
     },
     "output_type": "display_data"
    }
   ],
   "source": [
    "# Real Values \n",
    "plt.plot(yTest, color='blue', label='Actual Gold Price')\n",
    "\n",
    "# Predicted Values\n",
    "plt.plot(testDataPrediction, color='red', label='Predicted Gold Price')\n",
    "\n",
    "plt.title('Actual Gold Price vs Predicted Gold Price')\n",
    "\n",
    "plt.xlabel('Number of Values')\n",
    "plt.ylabel('Gold Price')\n",
    "plt.legend()\n",
    "plt.show()\n",
    "\n",
    "\n",
    "\n"
   ]
  },
  {
   "cell_type": "code",
   "execution_count": null,
   "metadata": {},
   "outputs": [],
   "source": []
  }
 ],
 "metadata": {
  "kernelspec": {
   "display_name": "Python 3.7.7 64-bit",
   "language": "python",
   "name": "python3"
  },
  "language_info": {
   "codemirror_mode": {
    "name": "ipython",
    "version": 3
   },
   "file_extension": ".py",
   "mimetype": "text/x-python",
   "name": "python",
   "nbconvert_exporter": "python",
   "pygments_lexer": "ipython3",
   "version": "3.7.7"
  },
  "orig_nbformat": 4,
  "vscode": {
   "interpreter": {
    "hash": "69713e280fccb9aa802931bf1b98f79efcfe938b3ab1e86cc85b2e647522a81d"
   }
  }
 },
 "nbformat": 4,
 "nbformat_minor": 2
}
